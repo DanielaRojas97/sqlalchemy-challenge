{
 "cells": [
  {
   "cell_type": "code",
   "execution_count": 1,
   "metadata": {},
   "outputs": [],
   "source": [
    "#Recap of important concepts:\n",
    "#In SQLAlchemy, a \"Base\" refers to a declarative base class that serves as a foundation for defining your database tables as Python classes. When you create a class that inherits from this Base class, SQLAlchemy can automatically map the class to a corresponding table in the database.\n",
    "\n",
    "#Here's a brief overview of how it works:\n",
    "\n",
    "#Declarative Base: You create a declarative base using declarative_base() from SQLAlchemy. This function returns a base class that maintains a catalog of classes and tables relative to that base.\n",
    "\n",
    "#Defining Classes: When you define a class that inherits from this Base, you can specify the table name and columns as class attributes. Each attribute corresponds to a column in the database table.\n",
    "\n",
    "#Creating Tables: Once you have defined your classes, you can create the corresponding tables in the database by calling Base.metadata.create_all(engine), where engine is your database connection."
   ]
  },
  {
   "cell_type": "code",
   "execution_count": 2,
   "metadata": {},
   "outputs": [],
   "source": [
    "%matplotlib inline\n",
    "from matplotlib import style\n",
    "style.use('fivethirtyeight')\n",
    "import matplotlib.pyplot as plt"
   ]
  },
  {
   "cell_type": "code",
   "execution_count": 3,
   "metadata": {},
   "outputs": [],
   "source": [
    "import numpy as np\n",
    "import pandas as pd\n",
    "import datetime as dt"
   ]
  },
  {
   "cell_type": "markdown",
   "metadata": {},
   "source": [
    "# Reflect Tables into SQLAlchemy ORM"
   ]
  },
  {
   "cell_type": "code",
   "execution_count": 4,
   "metadata": {},
   "outputs": [],
   "source": [
    "# Python SQL toolkit and Object Relational Mapper\n",
    "import sqlalchemy\n",
    "from sqlalchemy.ext.automap import automap_base\n",
    "from sqlalchemy.orm import Session\n",
    "from sqlalchemy import create_engine, and_, text, inspect, func"
   ]
  },
  {
   "cell_type": "code",
   "execution_count": 5,
   "metadata": {},
   "outputs": [],
   "source": [
    "# create engine to hawaii.sqlite\n",
    "engine = create_engine(\"sqlite:///Resources/hawaii.sqlite\")"
   ]
  },
  {
   "cell_type": "code",
   "execution_count": 6,
   "metadata": {},
   "outputs": [
    {
     "name": "stdout",
     "output_type": "stream",
     "text": [
      "['measurement', 'station']\n"
     ]
    }
   ],
   "source": [
    "# reflect an existing database into a new model\n",
    "Base = automap_base()\n",
    "Base.prepare(autoload_with=engine)\n",
    "Base.classes.keys()\n",
    "\n",
    "# reflect the tables\n",
    "print(Base.classes.keys())"
   ]
  },
  {
   "cell_type": "code",
   "execution_count": 7,
   "metadata": {},
   "outputs": [
    {
     "name": "stdout",
     "output_type": "stream",
     "text": [
      "measurement\n",
      "station\n"
     ]
    },
    {
     "data": {
      "text/plain": [
       "['measurement', 'station']"
      ]
     },
     "execution_count": 7,
     "metadata": {},
     "output_type": "execute_result"
    }
   ],
   "source": [
    "# View all of the classes that automap found\n",
    "#---------------------------------------------------\n",
    "\n",
    "#Option 1:\n",
    "reflected_classes=Base.classes.keys()\n",
    "for class_name in reflected_classes:\n",
    "    print(class_name)\n",
    "\n",
    "#Option 2:\n",
    "# Create the inspector and connect it to the engine\n",
    "inspector=inspect(engine)\n",
    "\n",
    "# Collect the names of tables within the database\n",
    "inspector.get_table_names()"
   ]
  },
  {
   "cell_type": "code",
   "execution_count": 8,
   "metadata": {},
   "outputs": [],
   "source": [
    "# Save references to each table. Each table is a class\n",
    "measurement=Base.classes.measurement\n",
    "station=Base.classes.station"
   ]
  },
  {
   "cell_type": "code",
   "execution_count": 9,
   "metadata": {},
   "outputs": [],
   "source": [
    "# Create our session (link) from Python to the DB\n",
    "session=Session(engine)\n"
   ]
  },
  {
   "cell_type": "markdown",
   "metadata": {},
   "source": [
    "# Exploratory Precipitation Analysis"
   ]
  },
  {
   "cell_type": "code",
   "execution_count": 12,
   "metadata": {},
   "outputs": [
    {
     "name": "stdout",
     "output_type": "stream",
     "text": [
      "id INTEGER\n",
      "station TEXT\n",
      "date TEXT\n",
      "prcp FLOAT\n",
      "tobs FLOAT\n",
      "id INTEGER\n",
      "station TEXT\n",
      "name TEXT\n",
      "latitude FLOAT\n",
      "longitude FLOAT\n",
      "elevation FLOAT\n",
      "[(1, 'USC00519397', '2010-01-01', 0.08, 65.0), (2, 'USC00519397', '2010-01-02', 0.0, 63.0), (3, 'USC00519397', '2010-01-03', 0.0, 74.0), (4, 'USC00519397', '2010-01-04', 0.0, 76.0), (5, 'USC00519397', '2010-01-06', None, 73.0)]\n",
      "[(1, 'USC00519397', 'WAIKIKI 717.2, HI US', 21.2716, -157.8168, 3.0), (2, 'USC00513117', 'KANEOHE 838.1, HI US', 21.4234, -157.8015, 14.6), (3, 'USC00514830', 'KUALOA RANCH HEADQUARTERS 886.9, HI US', 21.5213, -157.8374, 7.0), (4, 'USC00517948', 'PEARL CITY, HI US', 21.3934, -157.9751, 11.9), (5, 'USC00518838', 'UPPER WAHIAWA 874.3, HI US', 21.4992, -158.0111, 306.6)]\n",
      "('2010-01-01',)\n",
      "('2017-08-23',)\n"
     ]
    }
   ],
   "source": [
    "# Find the most recent date in the data set.\n",
    "#---------------------------------------------------------------------------\n",
    "\n",
    "#See which columns Measurement and Station tables have:\n",
    "columns_measurement = inspector.get_columns(\"measurement\")\n",
    "for column in columns_measurement:\n",
    "    print(column[\"name\"], column[\"type\"])\n",
    "\n",
    "columns_station= inspector.get_columns(\"station\")\n",
    "for column in columns_station:\n",
    "    print(column[\"name\"], column[\"type\"])\n",
    "\n",
    "#See how the data looks in Measurement table:\n",
    "with engine.connect() as conn:\n",
    "    print(conn.execute(text('SELECT * FROM measurement LIMIT 5')).fetchall())\n",
    "\n",
    "#See how data looks in Station table:\n",
    "with engine.connect() as conn:\n",
    "    print(conn.execute(text('SELECT * FROM station LIMIT 5')).fetchall())\n",
    "\n",
    "# Count total dates in Measurement Table:\n",
    "session.query(func.count(measurement.date)).all()\n",
    "\n",
    "# Oldest Date\n",
    "earliest_date=session.query(measurement.date).order_by(measurement.date).first()\n",
    "print(earliest_date)\n",
    "\n",
    "# Most Recent Date****\n",
    "latest_date=session.query(measurement.date).order_by(measurement.date.desc()).first()\n",
    "print(latest_date)\n",
    "\n",
    "\n",
    "\n",
    "#Homework Notes (please disregard)\n",
    "#----------------------------------------------------------------------------------------------\n",
    "#The earliest date (oldest date) is calculated:\n",
    "#session.query(measurement.date).order_by(measurement.date).first()\n",
    "\n",
    "#Explanation:\n",
    "#session.query(measurement.date) selects the date column from the measurement table.\n",
    "#.order_by(measurement.date) orders the results by the date column in ascending order.\n",
    "#.first() retrieves the first record from the ordered results, which will be the earliest date.\n",
    "\n",
    "\n",
    "#I can also calculate the most recent way as:\n",
    "#session.execute(text(\"SELECT MAX(date) FROM measurement\")).scalar()\n",
    "#print(result)\n",
    "\n",
    "#Explanation:\n",
    "#session.execute(...): This part of the code is using the SQLAlchemy session object to execute a raw SQL query.\n",
    "#The SQL query being executed is \"SELECT MIN(date) FROM measurement\", which is a standard SQL statement that retrieves the minimum (earliest) date\n",
    "#.scalar() retrieves the single value (the latest date) from the query result.\n"
   ]
  },
  {
   "cell_type": "code",
   "execution_count": 15,
   "metadata": {
    "scrolled": true
   },
   "outputs": [
    {
     "data": {
      "image/png": "[encoded data removed]",
      "text/plain": [
       "<Figure size 640x480 with 1 Axes>"
      ]
     },
     "metadata": {},
     "output_type": "display_data"
    }
   ],
   "source": [
    "# Design a query to retrieve the last 12 months of precipitation data and plot the results. \n",
    "# Starting from the most recent data point in the database. \n",
    "# Calculate the date one year from the last date in data set: \n",
    "# Perform a query to retrieve the data and precipitation scores\n",
    "#----------------------------------------------------------------\n",
    "\n",
    "#Store in one variable the table columns \"date\" and \"precipitations\"\n",
    "select_info = [measurement.date, measurement.prcp]\n",
    "\n",
    "#Query the new variable \"select_inf\"\n",
    "precipitation_scores = session.query(*select_info).\\\n",
    "    filter(and_(measurement.date >= '2016-08-23', measurement.date <= '2017-08-23')).\\\n",
    "    order_by(measurement.date).all()\n",
    "\n",
    "#Save the query results as a Pandas DataFrame. Explicitly set the column names\n",
    "df = pd.DataFrame(precipitation_scores, columns=['Date', 'Precipitations'])\n",
    "# Convert 'Date' to datetime format\n",
    "df['Date'] = pd.to_datetime(df['Date'])\n",
    "   \n",
    "# Sort the dataframe by date\n",
    "sorted_df = df.sort_values(by='Date')\n",
    "    \n",
    "# Use Pandas Plotting with Matplotlib to plot the data\n",
    "sorted_df.set_index('Date', inplace=True)\n",
    "\n",
    "n=250\n",
    "sorted_df.plot.bar()\n",
    "plt.xticks(ticks=range(0, len(sorted_df.index), n),labels=sorted_df.index[::n].strftime('%Y-%m-%d'), rotation=45)\n",
    "plt.title('Daily Precipitation')\n",
    "plt.xlabel('Date')\n",
    "plt.ylabel('Inches')\n",
    "plt.tight_layout()\n",
    "plt.show()\n",
    "\n",
    "\n",
    "#Personal Explanation (please disregard)\n",
    "#the query uses \".\\\"  at the end of a line in Python as a line continuation character. It allows you to split a long line of code into multiple lines for better readability. \n",
    "#This is particularly useful when you're chaining methods together, as in the case of the SQLAlchemy query.\n",
    "#If you didn't use .\\, the code would need to be written as a single line, which can be cumbersome:\n",
    "#precipitation_scores = session.query(*select_info).filter(and_(measurement.date >= '2016-08-23', measurement.date <= '2017-08-23')).order_by(measurement.date).all()"
   ]
  },
  {
   "cell_type": "code",
   "execution_count": 16,
   "metadata": {},
   "outputs": [
    {
     "data": {
      "text/html": [
       "<div>\n",
       "<style scoped>\n",
       "    .dataframe tbody tr th:only-of-type {\n",
       "        vertical-align: middle;\n",
       "    }\n",
       "\n",
       "    .dataframe tbody tr th {\n",
       "        vertical-align: top;\n",
       "    }\n",
       "\n",
       "    .dataframe thead th {\n",
       "        text-align: right;\n",
       "    }\n",
       "</style>\n",
       "<table border=\"1\" class=\"dataframe\">\n",
       "  <thead>\n",
       "    <tr style=\"text-align: right;\">\n",
       "      <th></th>\n",
       "      <th>0</th>\n",
       "    </tr>\n",
       "  </thead>\n",
       "  <tbody>\n",
       "    <tr>\n",
       "      <th>count</th>\n",
       "      <td>2021.000000</td>\n",
       "    </tr>\n",
       "    <tr>\n",
       "      <th>mean</th>\n",
       "      <td>0.177279</td>\n",
       "    </tr>\n",
       "    <tr>\n",
       "      <th>median</th>\n",
       "      <td>0.020000</td>\n",
       "    </tr>\n",
       "    <tr>\n",
       "      <th>std_dev</th>\n",
       "      <td>0.461190</td>\n",
       "    </tr>\n",
       "    <tr>\n",
       "      <th>min_value</th>\n",
       "      <td>0.000000</td>\n",
       "    </tr>\n",
       "    <tr>\n",
       "      <th>25</th>\n",
       "      <td>0.000000</td>\n",
       "    </tr>\n",
       "    <tr>\n",
       "      <th>50</th>\n",
       "      <td>0.020000</td>\n",
       "    </tr>\n",
       "    <tr>\n",
       "      <th>75</th>\n",
       "      <td>0.130000</td>\n",
       "    </tr>\n",
       "    <tr>\n",
       "      <th>max_value</th>\n",
       "      <td>6.700000</td>\n",
       "    </tr>\n",
       "  </tbody>\n",
       "</table>\n",
       "</div>"
      ],
      "text/plain": [
       "                     0\n",
       "count      2021.000000\n",
       "mean          0.177279\n",
       "median        0.020000\n",
       "std_dev       0.461190\n",
       "min_value     0.000000\n",
       "25            0.000000\n",
       "50            0.020000\n",
       "75            0.130000\n",
       "max_value     6.700000"
      ]
     },
     "execution_count": 16,
     "metadata": {},
     "output_type": "execute_result"
    }
   ],
   "source": [
    "# Use Pandas to calculate the summary statistics for the precipitation data\n",
    "# Use Pandas to calculate the summary statistics for the precipitation data\n",
    "count= sorted_df[\"Precipitations\"].count()\n",
    "mean= sorted_df[\"Precipitations\"].mean()\n",
    "median=sorted_df[\"Precipitations\"].median()\n",
    "std_dev= sorted_df[\"Precipitations\"].std()\n",
    "min_value= sorted_df[\"Precipitations\"].min()\n",
    "max_value= sorted_df[\"Precipitations\"].max()\n",
    "FirstQ= sorted_df[\"Precipitations\"].quantile(0.25)\n",
    "SecondQ= sorted_df[\"Precipitations\"].quantile(0.50)\n",
    "ThirdQ= sorted_df[\"Precipitations\"].quantile(0.75)\n",
    "\n",
    "precipitations_summary = pd.DataFrame({\n",
    "    \"count\": [count],\n",
    "    \"mean\": [mean],\n",
    "    \"median\": [median],\n",
    "    \"std_dev\": [std_dev],\n",
    "    \"min_value\": [min_value],\n",
    "    \"25\": [FirstQ],\n",
    "    \"50\": [SecondQ],\n",
    "    \"75\": [ThirdQ],\n",
    "    \"max_value\": [max_value]\n",
    "})\n",
    "precipitations_summary = precipitations_summary.transpose()\n",
    "\n",
    "# Display results\n",
    "precipitations_summary\n"
   ]
  },
  {
   "cell_type": "markdown",
   "metadata": {},
   "source": [
    "# Exploratory Station Analysis"
   ]
  },
  {
   "cell_type": "code",
   "execution_count": 17,
   "metadata": {},
   "outputs": [
    {
     "data": {
      "text/plain": [
       "9"
      ]
     },
     "execution_count": 17,
     "metadata": {},
     "output_type": "execute_result"
    }
   ],
   "source": [
    "# Design a query to calculate the total number of stations in the dataset\n",
    "total_stations = session.query(station.station).count()\n",
    "total_stations"
   ]
  },
  {
   "cell_type": "code",
   "execution_count": 18,
   "metadata": {},
   "outputs": [
    {
     "data": {
      "text/plain": [
       "[('USC00519281', 2772),\n",
       " ('USC00519397', 2724),\n",
       " ('USC00513117', 2709),\n",
       " ('USC00519523', 2669),\n",
       " ('USC00516128', 2612),\n",
       " ('USC00514830', 2202),\n",
       " ('USC00511918', 1979),\n",
       " ('USC00517948', 1372),\n",
       " ('USC00518838', 511)]"
      ]
     },
     "execution_count": 18,
     "metadata": {},
     "output_type": "execute_result"
    }
   ],
   "source": [
    "# Design a query to find the most active stations (i.e. which stations have the most rows?)\n",
    "# List the stations and their counts in descending order.\n",
    "most_active_stations = session.query(\n",
    "    measurement.station,\n",
    "    func.count(measurement.station).label('station_count')\n",
    ").group_by(measurement.station).order_by(func.count(measurement.station).desc()).all()\n",
    "\n",
    "most_active_stations\n",
    "\n",
    "\n",
    "#I cannot query by station because, the table only is a record of the sation's reference information. Measurement has the actual record of \n",
    "#how precipitations manifested at each of the stations\n"
   ]
  },
  {
   "cell_type": "code",
   "execution_count": 19,
   "metadata": {},
   "outputs": [
    {
     "data": {
      "text/plain": [
       "[(53.0, 87.0, 73.09795396419437)]"
      ]
     },
     "execution_count": 19,
     "metadata": {},
     "output_type": "execute_result"
    }
   ],
   "source": [
    "# Using the most active station id from the previous query, calculate the lowest, highest, and average temperature.\n",
    "select_info_stations= session.query(measurement.station, measurement.station).all()\n",
    "\n",
    "temperature_stats = session.query(\n",
    "    func.min(measurement.tobs).label('min_temp'),\n",
    "    func.max(measurement.tobs).label('max_temp'),\n",
    "    func.avg(measurement.tobs).label('avg_temp')\n",
    ").all()\n",
    "temperature_stats"
   ]
  },
  {
   "cell_type": "code",
   "execution_count": 20,
   "metadata": {},
   "outputs": [
    {
     "data": {
      "image/png": "[encoded data removed]",
      "text/plain": [
       "<Figure size 640x480 with 1 Axes>"
      ]
     },
     "metadata": {},
     "output_type": "display_data"
    }
   ],
   "source": [
    "# Using the most active station id\n",
    "# Query the last 12 months of temperature observation data for this station and plot the results as a histogram\n",
    "\n",
    "#store the table columns in a variable\n",
    "select_info2=[measurement.station, measurement.date, measurement.tobs]\n",
    "\n",
    "#query the new variable\n",
    "temperatures = session.query(*select_info2).\\\n",
    "    filter(and_(measurement.station==\"USC00519281\",measurement.date >= '2016-08-23', measurement.date <= '2017-08-23')).\\\n",
    "    order_by(measurement.tobs).all()\n",
    "\n",
    "#Make a pandas data frame with the result\n",
    "df2 = pd.DataFrame(temperatures, columns=[\"Station\",\"Date\",\"Temperature\"])\n",
    "\n",
    "#Plot the histogram\n",
    "plt.hist(df2['Temperature'], bins=15, alpha=0.9, color='blue')  \n",
    "plt.xlabel('Temperature') \n",
    "plt.ylabel('Frequency')  \n",
    "plt.title('Histogram of Temperature Data') \n",
    "plt.show()  "
   ]
  },
  {
   "cell_type": "markdown",
   "metadata": {},
   "source": [
    "# Close Session"
   ]
  },
  {
   "cell_type": "code",
   "execution_count": 21,
   "metadata": {},
   "outputs": [],
   "source": [
    "# Close Session\n",
    "session.close()"
   ]
  },
  {
   "cell_type": "code",
   "execution_count": null,
   "metadata": {},
   "outputs": [],
   "source": []
  }
 ],
 "metadata": {
  "anaconda-cloud": {},
  "kernel_info": {
   "name": "python3"
  },
  "kernelspec": {
   "display_name": "Python 3 (ipykernel)",
   "language": "python",
   "name": "python3"
  },
  "language_info": {
   "codemirror_mode": {
    "name": "ipython",
    "version": 3
   },
   "file_extension": ".py",
   "mimetype": "text/x-python",
   "name": "python",
   "nbconvert_exporter": "python",
   "pygments_lexer": "ipython3",
   "version": "3.10.15"
  },
  "nteract": {
   "version": "0.12.3"
  },
  "varInspector": {
   "cols": {
    "lenName": 16,
    "lenType": 16,
    "lenVar": 40
   },
   "kernels_config": {
    "python": {
     "delete_cmd_postfix": "",
     "delete_cmd_prefix": "del ",
     "library": "var_list.py",
     "varRefreshCmd": "print(var_dic_list())"
    },
    "r": {
     "delete_cmd_postfix": ") ",
     "delete_cmd_prefix": "rm(",
     "library": "var_list.r",
     "varRefreshCmd": "cat(var_dic_list()) "
    }
   },
   "types_to_exclude": [
    "module",
    "function",
    "builtin_function_or_method",
    "instance",
    "_Feature"
   ],
   "window_display": false
  }
 },
 "nbformat": 4,
 "nbformat_minor": 4
}
