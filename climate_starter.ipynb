{
 "cells": [
  {
   "cell_type": "code",
   "execution_count": 112,
   "metadata": {},
   "outputs": [],
   "source": [
    "%matplotlib inline\n",
    "from matplotlib import style\n",
    "style.use('fivethirtyeight')\n",
    "import matplotlib.pyplot as plt"
   ]
  },
  {
   "cell_type": "code",
   "execution_count": 113,
   "metadata": {},
   "outputs": [],
   "source": [
    "import numpy as np\n",
    "import pandas as pd\n",
    "import datetime as dt"
   ]
  },
  {
   "cell_type": "markdown",
   "metadata": {},
   "source": [
    "# Reflect Tables into SQLAlchemy ORM"
   ]
  },
  {
   "cell_type": "code",
   "execution_count": 115,
   "metadata": {},
   "outputs": [],
   "source": [
    "# Python SQL toolkit and Object Relational Mapper\n",
    "import sqlalchemy\n",
    "from sqlalchemy.ext.automap import automap_base\n",
    "from sqlalchemy.orm import Session\n",
    "from sqlalchemy import create_engine, text, inspect, func, and_\n",
    "from sqlalchemy.orm import sessionmaker\n"
   ]
  },
  {
   "cell_type": "code",
   "execution_count": 116,
   "metadata": {},
   "outputs": [],
   "source": [
    "# create engine to hawaii.sqlite\n",
    "engine = create_engine(\"sqlite:///Resources/hawaii.sqlite\")"
   ]
  },
  {
   "cell_type": "code",
   "execution_count": 117,
   "metadata": {},
   "outputs": [
    {
     "name": "stdout",
     "output_type": "stream",
     "text": [
      "['measurement', 'station']\n"
     ]
    }
   ],
   "source": [
    "# reflect an existing database into a new model\n",
    "Base = automap_base()\n",
    "Base.prepare(autoload_with=engine)\n",
    "Base.classes.keys()\n",
    "\n",
    "# reflect the tables\n",
    "print(Base.classes.keys())"
   ]
  },
  {
   "cell_type": "code",
   "execution_count": 118,
   "metadata": {},
   "outputs": [
    {
     "name": "stdout",
     "output_type": "stream",
     "text": [
      "measurement\n",
      "station\n"
     ]
    }
   ],
   "source": [
    "# View all of the classes that automap found\n",
    "reflected_classes=Base.classes.keys()\n",
    "for class_name in reflected_classes:\n",
    "    print(class_name)"
   ]
  },
  {
   "cell_type": "code",
   "execution_count": 119,
   "metadata": {},
   "outputs": [],
   "source": [
    "# Save references to each table\n",
    "station = Base.classes.station\n",
    "measurement = Base.classes.measurement"
   ]
  },
  {
   "cell_type": "code",
   "execution_count": 120,
   "metadata": {},
   "outputs": [],
   "source": [
    "# Create our session (link) from Python to the DB\n",
    "session = Session(engine)"
   ]
  },
  {
   "cell_type": "markdown",
   "metadata": {},
   "source": [
    "# Exploratory Precipitation Analysis"
   ]
  },
  {
   "cell_type": "code",
   "execution_count": 121,
   "metadata": {},
   "outputs": [
    {
     "name": "stdout",
     "output_type": "stream",
     "text": [
      "id INTEGER\n",
      "station TEXT\n",
      "date TEXT\n",
      "prcp FLOAT\n",
      "tobs FLOAT\n"
     ]
    },
    {
     "data": {
      "text/plain": [
       "('2017-08-23',)"
      ]
     },
     "execution_count": 121,
     "metadata": {},
     "output_type": "execute_result"
    }
   ],
   "source": [
    "# Find the most recent date in the data set.\n",
    "\n",
    "#session.query(station.date).order_by(station.date.desc()).first()\n",
    "\n",
    "inspector = inspect(engine)\n",
    "inspector.get_table_names()\n",
    "\n",
    "columns = inspector.get_columns('measurement')\n",
    "for c in columns:\n",
    "    print(c['name'], c[\"type\"])\n",
    "\n",
    "session.query(measurement.date).order_by(measurement.date.desc()).first()\n",
    "\n"
   ]
  },
  {
   "cell_type": "code",
   "execution_count": 122,
   "metadata": {},
   "outputs": [
    {
     "data": {
      "image/png": "[encoded data removed]",
      "text/plain": [
       "<Figure size 640x480 with 1 Axes>"
      ]
     },
     "metadata": {},
     "output_type": "display_data"
    }
   ],
   "source": [
    "# Design a query to retrieve the last 12 months of precipitation data and plot the results. \n",
    "# Starting from the most recent data point in the database.\n",
    "\n",
    "\n",
    "# Calculate the date one year from the last date in data set.\n",
    "\n",
    "filtered_dates = session.query(measurement.date).\\\n",
    "    filter(and_(measurement.date >= '2016-08-23', measurement.date <= '2017-08-23')).\\\n",
    "    order_by(measurement.date).all()\n",
    "\n",
    "# Perform a query to retrieve the data and precipitation scores\n",
    "sel = [measurement.date,\n",
    "       func.avg(measurement.prcp)]\n",
    "may_averages = session.query(*sel).\\\n",
    "    group_by(measurement.date).\\\n",
    "    order_by(measurement.date).all()\n",
    "may_averages\n",
    "\n",
    "\n",
    "# Save the query results as a Pandas DataFrame. Explicitly set the column names\n",
    "df = pd.DataFrame(may_averages, columns=['date', 'precipitations'])\n",
    "\n",
    "# Sort the dataframe by date\n",
    "sorted_df= df.sort_values(by=\"date\")\n",
    "sorted_df\n",
    "\n",
    "\n",
    "\n",
    "# Use Pandas Plotting with Matplotlib to plot the data\n",
    "\n",
    "sorted_df.plot.bar()\n",
    "plt.tight_layout()\n",
    "plt.show()\n"
   ]
  },
  {
   "cell_type": "code",
   "execution_count": 123,
   "metadata": {},
   "outputs": [
    {
     "data": {
      "text/html": [
       "<div>\n",
       "<style scoped>\n",
       "    .dataframe tbody tr th:only-of-type {\n",
       "        vertical-align: middle;\n",
       "    }\n",
       "\n",
       "    .dataframe tbody tr th {\n",
       "        vertical-align: top;\n",
       "    }\n",
       "\n",
       "    .dataframe thead th {\n",
       "        text-align: right;\n",
       "    }\n",
       "</style>\n",
       "<table border=\"1\" class=\"dataframe\">\n",
       "  <thead>\n",
       "    <tr style=\"text-align: right;\">\n",
       "      <th></th>\n",
       "      <th>count</th>\n",
       "      <th>mean</th>\n",
       "      <th>median</th>\n",
       "      <th>std_dev</th>\n",
       "      <th>min_value</th>\n",
       "      <th>25</th>\n",
       "      <th>50</th>\n",
       "      <th>75</th>\n",
       "      <th>max_value</th>\n",
       "    </tr>\n",
       "  </thead>\n",
       "  <tbody>\n",
       "    <tr>\n",
       "      <th>0</th>\n",
       "      <td>2792</td>\n",
       "      <td>0.161962</td>\n",
       "      <td>0.058333</td>\n",
       "      <td>0.345704</td>\n",
       "      <td>0.0</td>\n",
       "      <td>0.01</td>\n",
       "      <td>0.058333</td>\n",
       "      <td>0.173571</td>\n",
       "      <td>5.97</td>\n",
       "    </tr>\n",
       "  </tbody>\n",
       "</table>\n",
       "</div>"
      ],
      "text/plain": [
       "   count      mean    median   std_dev  min_value    25        50        75  \\\n",
       "0   2792  0.161962  0.058333  0.345704        0.0  0.01  0.058333  0.173571   \n",
       "\n",
       "   max_value  \n",
       "0       5.97  "
      ]
     },
     "execution_count": 123,
     "metadata": {},
     "output_type": "execute_result"
    }
   ],
   "source": [
    "# Use Pandas to calculate the summary statistics for the precipitation data\n",
    "count= sorted_df[\"precipitations\"].count()\n",
    "mean= sorted_df[\"precipitations\"].mean()\n",
    "median=sorted_df[\"precipitations\"].median()\n",
    "std_dev= sorted_df[\"precipitations\"].std()\n",
    "min_value= sorted_df[\"precipitations\"].min()\n",
    "max_value= sorted_df[\"precipitations\"].max()\n",
    "FirstQ= sorted_df[\"precipitations\"].quantile(0.25)\n",
    "SecondQ= sorted_df[\"precipitations\"].quantile(0.50)\n",
    "ThirdQ= sorted_df[\"precipitations\"].quantile(0.75)\n",
    "\n",
    "precipitations_summary = pd.DataFrame({\n",
    "    \"count\": [count],\n",
    "    \"mean\": [mean],\n",
    "    \"median\": [median],\n",
    "    \"std_dev\": [std_dev],\n",
    "    \"min_value\": [min_value],\n",
    "    \"25\": [FirstQ],\n",
    "    \"50\": [SecondQ],\n",
    "    \"75\": [ThirdQ],\n",
    "    \"max_value\": [max_value]\n",
    "})\n",
    "\n",
    "\n",
    "# Display results\n",
    "precipitations_summary\n"
   ]
  },
  {
   "cell_type": "markdown",
   "metadata": {},
   "source": [
    "# Exploratory Station Analysis"
   ]
  },
  {
   "cell_type": "code",
   "execution_count": 144,
   "metadata": {},
   "outputs": [
    {
     "data": {
      "text/plain": [
       "9"
      ]
     },
     "execution_count": 144,
     "metadata": {},
     "output_type": "execute_result"
    }
   ],
   "source": [
    "# Design a query to calculate the total number of stations in the dataset\n",
    "\n",
    "#Inspect Columns\n",
    "#columns = inspector.get_columns('station')\n",
    "#for c in columns:\n",
    " #  print(c['name'], c[\"type\"])\n",
    "\n",
    "\n",
    "Session = sessionmaker(bind=engine)\n",
    "session = Session()\n",
    "total_stations = session.query(station).count()\n",
    "\n",
    "total_stations\n"
   ]
  },
  {
   "cell_type": "code",
   "execution_count": 145,
   "metadata": {},
   "outputs": [
    {
     "data": {
      "text/plain": [
       "[('USC00519281', 2772),\n",
       " ('USC00519397', 2724),\n",
       " ('USC00513117', 2709),\n",
       " ('USC00519523', 2669),\n",
       " ('USC00516128', 2612),\n",
       " ('USC00514830', 2202),\n",
       " ('USC00511918', 1979),\n",
       " ('USC00517948', 1372),\n",
       " ('USC00518838', 511)]"
      ]
     },
     "execution_count": 145,
     "metadata": {},
     "output_type": "execute_result"
    }
   ],
   "source": [
    "# Design a query to find the most active stations (i.e. which stations have the most rows?)\n",
    "# List the stations and their counts in descending order.\n",
    "\n",
    "most_active_stations = session.query(\n",
    "    measurement.station,\n",
    "    func.count(measurement.station).label('station_count')\n",
    ").group_by(measurement.station).order_by(func.count(measurement.station).desc()).all()\n",
    "\n",
    "most_active_stations\n",
    "\n",
    "##Create a connection\n",
    "#with engine.connect() as connection:\n",
    " #   # Execute the query\n",
    "  #  result = connection.execute(text(\"SELECT * FROM station\"))\n",
    "    \n",
    "   # # Fetch the results\n",
    "   # data = result.fetchall()\n",
    "\n",
    "# Create a connection\n",
    "#with engine.connect() as connection:\n",
    "    # Execute the query\n",
    " #   result = connection.execute(text(\"SELECT * FROM measurement\"))\n",
    "    \n",
    "    # Fetch the results\n",
    "#    data2 = result.fetchall()\n",
    "\n",
    "#print(data)\n",
    "\n",
    "#print(data2)"
   ]
  },
  {
   "cell_type": "code",
   "execution_count": 150,
   "metadata": {},
   "outputs": [
    {
     "data": {
      "text/plain": [
       "[('USC00519397', 'USC00519397'),\n",
       " ('USC00519397', 'USC00513117'),\n",
       " ('USC00519397', 'USC00514830'),\n",
       " ('USC00519397', 'USC00517948'),\n",
       " ('USC00519397', 'USC00518838'),\n",
       " ('USC00519397', 'USC00519523'),\n",
       " ('USC00519397', 'USC00519281'),\n",
       " ('USC00519397', 'USC00511918'),\n",
       " ('USC00519397', 'USC00516128'),\n",
       " ('USC00519397', 'USC00519397'),\n",
       " ('USC00519397', 'USC00513117'),\n",
       " ('USC00519397', 'USC00514830'),\n",
       " ('USC00519397', 'USC00517948'),\n",
       " ('USC00519397', 'USC00518838'),\n",
       " ('USC00519397', 'USC00519523'),\n",
       " ('USC00519397', 'USC00519281'),\n",
       " ('USC00519397', 'USC00511918'),\n",
       " ('USC00519397', 'USC00516128'),\n",
       " ('USC00519397', 'USC00519397'),\n",
       " ('USC00519397', 'USC00513117'),\n",
       " ('USC00519397', 'USC00514830'),\n",
       " ('USC00519397', 'USC00517948'),\n",
       " ('USC00519397', 'USC00518838'),\n",
       " ('USC00519397', 'USC00519523'),\n",
       " ('USC00519397', 'USC00519281'),\n",
       " ('USC00519397', 'USC00511918'),\n",
       " ('USC00519397', 'USC00516128'),\n",
       " ('USC00519397', 'USC00519397'),\n",
       " ('USC00519397', 'USC00513117'),\n",
       " ('USC00519397', 'USC00514830'),\n",
       " ('USC00519397', 'USC00517948'),\n",
       " ('USC00519397', 'USC00518838'),\n",
       " ('USC00519397', 'USC00519523'),\n",
       " ('USC00519397', 'USC00519281'),\n",
       " ('USC00519397', 'USC00511918'),\n",
       " ('USC00519397', 'USC00516128'),\n",
       " ('USC00519397', 'USC00519397'),\n",
       " ('USC00519397', 'USC00513117'),\n",
       " ('USC00519397', 'USC00514830'),\n",
       " ('USC00519397', 'USC00517948'),\n",
       " ('USC00519397', 'USC00518838'),\n",
       " ('USC00519397', 'USC00519523'),\n",
       " ('USC00519397', 'USC00519281'),\n",
       " ('USC00519397', 'USC00511918'),\n",
       " ('USC00519397', 'USC00516128'),\n",
       " ('USC00519397', 'USC00519397'),\n",
       " ('USC00519397', 'USC00513117'),\n",
       " ('USC00519397', 'USC00514830'),\n",
       " ('USC00519397', 'USC00517948'),\n",
       " ('USC00519397', 'USC00518838'),\n",
       " ('USC00519397', 'USC00519523'),\n",
       " ('USC00519397', 'USC00519281'),\n",
       " ('USC00519397', 'USC00511918'),\n",
       " ('USC00519397', 'USC00516128'),\n",
       " ('USC00519397', 'USC00519397'),\n",
       " ('USC00519397', 'USC00513117'),\n",
       " ('USC00519397', 'USC00514830'),\n",
       " ('USC00519397', 'USC00517948'),\n",
       " ('USC00519397', 'USC00518838'),\n",
       " ('USC00519397', 'USC00519523'),\n",
       " ('USC00519397', 'USC00519281'),\n",
       " ('USC00519397', 'USC00511918'),\n",
       " ('USC00519397', 'USC00516128'),\n",
       " ('USC00519397', 'USC00519397'),\n",
       " ('USC00519397', 'USC00513117'),\n",
       " ('USC00519397', 'USC00514830'),\n",
       " ('USC00519397', 'USC00517948'),\n",
       " ('USC00519397', 'USC00518838'),\n",
       " ('USC00519397', 'USC00519523'),\n",
       " ('USC00519397', 'USC00519281'),\n",
       " ('USC00519397', 'USC00511918'),\n",
       " ('USC00519397', 'USC00516128'),\n",
       " ('USC00519397', 'USC00519397'),\n",
       " ('USC00519397', 'USC00513117'),\n",
       " ('USC00519397', 'USC00514830'),\n",
       " ('USC00519397', 'USC00517948'),\n",
       " ('USC00519397', 'USC00518838'),\n",
       " ('USC00519397', 'USC00519523'),\n",
       " ('USC00519397', 'USC00519281'),\n",
       " ('USC00519397', 'USC00511918'),\n",
       " ('USC00519397', 'USC00516128'),\n",
       " ('USC00519397', 'USC00519397'),\n",
       " ('USC00519397', 'USC00513117'),\n",
       " ('USC00519397', 'USC00514830'),\n",
       " ('USC00519397', 'USC00517948'),\n",
       " ('USC00519397', 'USC00518838'),\n",
       " ('USC00519397', 'USC00519523'),\n",
       " ('USC00519397', 'USC00519281'),\n",
       " ('USC00519397', 'USC00511918'),\n",
       " ('USC00519397', 'USC00516128'),\n",
       " ('USC00519397', 'USC00519397'),\n",
       " ('USC00519397', 'USC00513117'),\n",
       " ('USC00519397', 'USC00514830'),\n",
       " ('USC00519397', 'USC00517948'),\n",
       " ('USC00519397', 'USC00518838'),\n",
       " ('USC00519397', 'USC00519523'),\n",
       " ('USC00519397', 'USC00519281'),\n",
       " ('USC00519397', 'USC00511918'),\n",
       " ('USC00519397', 'USC00516128'),\n",
       " ('USC00519397', 'USC00519397'),\n",
       " ('USC00519397', 'USC00513117'),\n",
       " ('USC00519397', 'USC00514830'),\n",
       " ('USC00519397', 'USC00517948'),\n",
       " ('USC00519397', 'USC00518838'),\n",
       " ('USC00519397', 'USC00519523'),\n",
       " ('USC00519397', 'USC00519281'),\n",
       " ('USC00519397', 'USC00511918'),\n",
       " ('USC00519397', 'USC00516128'),\n",
       " ('USC00519397', 'USC00519397'),\n",
       " ('USC00519397', 'USC00513117'),\n",
       " ('USC00519397', 'USC00514830'),\n",
       " ('USC00519397', 'USC00517948'),\n",
       " ('USC00519397', 'USC00518838'),\n",
       " ('USC00519397', 'USC00519523'),\n",
       " ('USC00519397', 'USC00519281'),\n",
       " ('USC00519397', 'USC00511918'),\n",
       " ('USC00519397', 'USC00516128'),\n",
       " ('USC00519397', 'USC00519397'),\n",
       " ('USC00519397', 'USC00513117'),\n",
       " ('USC00519397', 'USC00514830'),\n",
       " ('USC00519397', 'USC00517948'),\n",
       " ('USC00519397', 'USC00518838'),\n",
       " ('USC00519397', 'USC00519523'),\n",
       " ('USC00519397', 'USC00519281'),\n",
       " ('USC00519397', 'USC00511918'),\n",
       " ('USC00519397', 'USC00516128'),\n",
       " ('USC00519397', 'USC00519397'),\n",
       " ('USC00519397', 'USC00513117'),\n",
       " ('USC00519397', 'USC00514830'),\n",
       " ('USC00519397', 'USC00517948'),\n",
       " ('USC00519397', 'USC00518838'),\n",
       " ('USC00519397', 'USC00519523'),\n",
       " ('USC00519397', 'USC00519281'),\n",
       " ('USC00519397', 'USC00511918'),\n",
       " ('USC00519397', 'USC00516128'),\n",
       " ('USC00519397', 'USC00519397'),\n",
       " ('USC00519397', 'USC00513117'),\n",
       " ('USC00519397', 'USC00514830'),\n",
       " ('USC00519397', 'USC00517948'),\n",
       " ('USC00519397', 'USC00518838'),\n",
       " ('USC00519397', 'USC00519523'),\n",
       " ('USC00519397', 'USC00519281'),\n",
       " ('USC00519397', 'USC00511918'),\n",
       " ('USC00519397', 'USC00516128'),\n",
       " ('USC00519397', 'USC00519397'),\n",
       " ('USC00519397', 'USC00513117'),\n",
       " ('USC00519397', 'USC00514830'),\n",
       " ('USC00519397', 'USC00517948'),\n",
       " ('USC00519397', 'USC00518838'),\n",
       " ('USC00519397', 'USC00519523'),\n",
       " ('USC00519397', 'USC00519281'),\n",
       " ('USC00519397', 'USC00511918'),\n",
       " ('USC00519397', 'USC00516128'),\n",
       " ('USC00519397', 'USC00519397'),\n",
       " ('USC00519397', 'USC00513117'),\n",
       " ('USC00519397', 'USC00514830'),\n",
       " ('USC00519397', 'USC00517948'),\n",
       " ('USC00519397', 'USC00518838'),\n",
       " ('USC00519397', 'USC00519523'),\n",
       " ('USC00519397', 'USC00519281'),\n",
       " ('USC00519397', 'USC00511918'),\n",
       " ('USC00519397', 'USC00516128'),\n",
       " ('USC00519397', 'USC00519397'),\n",
       " ('USC00519397', 'USC00513117'),\n",
       " ('USC00519397', 'USC00514830'),\n",
       " ('USC00519397', 'USC00517948'),\n",
       " ('USC00519397', 'USC00518838'),\n",
       " ('USC00519397', 'USC00519523'),\n",
       " ('USC00519397', 'USC00519281'),\n",
       " ('USC00519397', 'USC00511918'),\n",
       " ('USC00519397', 'USC00516128'),\n",
       " ('USC00519397', 'USC00519397'),\n",
       " ('USC00519397', 'USC00513117'),\n",
       " ('USC00519397', 'USC00514830'),\n",
       " ('USC00519397', 'USC00517948'),\n",
       " ('USC00519397', 'USC00518838'),\n",
       " ('USC00519397', 'USC00519523'),\n",
       " ('USC00519397', 'USC00519281'),\n",
       " ('USC00519397', 'USC00511918'),\n",
       " ('USC00519397', 'USC00516128'),\n",
       " ('USC00519397', 'USC00519397'),\n",
       " ('USC00519397', 'USC00513117'),\n",
       " ('USC00519397', 'USC00514830'),\n",
       " ('USC00519397', 'USC00517948'),\n",
       " ('USC00519397', 'USC00518838'),\n",
       " ('USC00519397', 'USC00519523'),\n",
       " ('USC00519397', 'USC00519281'),\n",
       " ('USC00519397', 'USC00511918'),\n",
       " ('USC00519397', 'USC00516128'),\n",
       " ('USC00519397', 'USC00519397'),\n",
       " ('USC00519397', 'USC00513117'),\n",
       " ('USC00519397', 'USC00514830'),\n",
       " ('USC00519397', 'USC00517948'),\n",
       " ('USC00519397', 'USC00518838'),\n",
       " ('USC00519397', 'USC00519523'),\n",
       " ('USC00519397', 'USC00519281'),\n",
       " ('USC00519397', 'USC00511918'),\n",
       " ('USC00519397', 'USC00516128'),\n",
       " ('USC00519397', 'USC00519397'),\n",
       " ('USC00519397', 'USC00513117')]"
      ]
     },
     "execution_count": 150,
     "metadata": {},
     "output_type": "execute_result"
    }
   ],
   "source": [
    "# Using the most active station id from the previous query, calculate the lowest, highest, and average temperature.\n",
    "\n",
    "\n",
    "temperature_stats= session.query(measurement.station, station.station).limit(200).all()\n",
    "\n",
    "temperature_stats2 = session.query(\n",
    "    func.min(measurement.tobs).label('min_temp'),\n",
    "    func.max(measurement.tobs).label('max_temp'),\n",
    "    func.avg(measurement.tobs).label('avg_temp')\n",
    ").all()\n",
    "temperature_stats"
   ]
  },
  {
   "cell_type": "code",
   "execution_count": 163,
   "metadata": {},
   "outputs": [
    {
     "ename": "ValueError",
     "evalue": "The 'color' keyword argument must have one color per dataset, but 2 datasets and 1 colors were provided",
     "output_type": "error",
     "traceback": [
      "\u001b[1;31m---------------------------------------------------------------------------\u001b[0m",
      "\u001b[1;31mValueError\u001b[0m                                Traceback (most recent call last)",
      "Cell \u001b[1;32mIn[163], line 33\u001b[0m\n\u001b[0;32m     29\u001b[0m df2 \u001b[38;5;241m=\u001b[39m pd\u001b[38;5;241m.\u001b[39mDataFrame(result, columns\u001b[38;5;241m=\u001b[39m[\u001b[38;5;124m\"\u001b[39m\u001b[38;5;124mTemperature\u001b[39m\u001b[38;5;124m\"\u001b[39m, \u001b[38;5;124m\"\u001b[39m\u001b[38;5;124mStation\u001b[39m\u001b[38;5;124m\"\u001b[39m])\n\u001b[0;32m     31\u001b[0m df2\n\u001b[1;32m---> 33\u001b[0m \u001b[43mplt\u001b[49m\u001b[38;5;241;43m.\u001b[39;49m\u001b[43mhist\u001b[49m\u001b[43m(\u001b[49m\u001b[43mdf2\u001b[49m\u001b[43m,\u001b[49m\u001b[43m \u001b[49m\u001b[43mbins\u001b[49m\u001b[38;5;241;43m=\u001b[39;49m\u001b[38;5;241;43m30\u001b[39;49m\u001b[43m,\u001b[49m\u001b[43m \u001b[49m\u001b[43malpha\u001b[49m\u001b[38;5;241;43m=\u001b[39;49m\u001b[38;5;241;43m0.7\u001b[39;49m\u001b[43m,\u001b[49m\u001b[43m \u001b[49m\u001b[43mcolor\u001b[49m\u001b[38;5;241;43m=\u001b[39;49m\u001b[38;5;124;43m'\u001b[39;49m\u001b[38;5;124;43mblue\u001b[39;49m\u001b[38;5;124;43m'\u001b[39;49m\u001b[43m)\u001b[49m  \u001b[38;5;66;03m# Create histogram\u001b[39;00m\n\u001b[0;32m     34\u001b[0m plt\u001b[38;5;241m.\u001b[39mxlabel(df2[\u001b[38;5;124m'\u001b[39m\u001b[38;5;124mTemperature\u001b[39m\u001b[38;5;124m'\u001b[39m])  \u001b[38;5;66;03m# Label x-axis\u001b[39;00m\n\u001b[0;32m     35\u001b[0m plt\u001b[38;5;241m.\u001b[39mylabel(df2[\u001b[38;5;124m'\u001b[39m\u001b[38;5;124mStation\u001b[39m\u001b[38;5;124m'\u001b[39m])  \u001b[38;5;66;03m# Label y-axis\u001b[39;00m\n",
      "File \u001b[1;32m~\\anaconda3\\envs\\dev\\lib\\site-packages\\matplotlib\\pyplot.py:3440\u001b[0m, in \u001b[0;36mhist\u001b[1;34m(x, bins, range, density, weights, cumulative, bottom, histtype, align, orientation, rwidth, log, color, label, stacked, data, **kwargs)\u001b[0m\n\u001b[0;32m   3415\u001b[0m \u001b[38;5;129m@_copy_docstring_and_deprecators\u001b[39m(Axes\u001b[38;5;241m.\u001b[39mhist)\n\u001b[0;32m   3416\u001b[0m \u001b[38;5;28;01mdef\u001b[39;00m \u001b[38;5;21mhist\u001b[39m(\n\u001b[0;32m   3417\u001b[0m     x: ArrayLike \u001b[38;5;241m|\u001b[39m Sequence[ArrayLike],\n\u001b[1;32m   (...)\u001b[0m\n\u001b[0;32m   3438\u001b[0m     BarContainer \u001b[38;5;241m|\u001b[39m Polygon \u001b[38;5;241m|\u001b[39m \u001b[38;5;28mlist\u001b[39m[BarContainer \u001b[38;5;241m|\u001b[39m Polygon],\n\u001b[0;32m   3439\u001b[0m ]:\n\u001b[1;32m-> 3440\u001b[0m     \u001b[38;5;28;01mreturn\u001b[39;00m gca()\u001b[38;5;241m.\u001b[39mhist(\n\u001b[0;32m   3441\u001b[0m         x,\n\u001b[0;32m   3442\u001b[0m         bins\u001b[38;5;241m=\u001b[39mbins,\n\u001b[0;32m   3443\u001b[0m         \u001b[38;5;28mrange\u001b[39m\u001b[38;5;241m=\u001b[39m\u001b[38;5;28mrange\u001b[39m,\n\u001b[0;32m   3444\u001b[0m         density\u001b[38;5;241m=\u001b[39mdensity,\n\u001b[0;32m   3445\u001b[0m         weights\u001b[38;5;241m=\u001b[39mweights,\n\u001b[0;32m   3446\u001b[0m         cumulative\u001b[38;5;241m=\u001b[39mcumulative,\n\u001b[0;32m   3447\u001b[0m         bottom\u001b[38;5;241m=\u001b[39mbottom,\n\u001b[0;32m   3448\u001b[0m         histtype\u001b[38;5;241m=\u001b[39mhisttype,\n\u001b[0;32m   3449\u001b[0m         align\u001b[38;5;241m=\u001b[39malign,\n\u001b[0;32m   3450\u001b[0m         orientation\u001b[38;5;241m=\u001b[39morientation,\n\u001b[0;32m   3451\u001b[0m         rwidth\u001b[38;5;241m=\u001b[39mrwidth,\n\u001b[0;32m   3452\u001b[0m         log\u001b[38;5;241m=\u001b[39mlog,\n\u001b[0;32m   3453\u001b[0m         color\u001b[38;5;241m=\u001b[39mcolor,\n\u001b[0;32m   3454\u001b[0m         label\u001b[38;5;241m=\u001b[39mlabel,\n\u001b[0;32m   3455\u001b[0m         stacked\u001b[38;5;241m=\u001b[39mstacked,\n\u001b[0;32m   3456\u001b[0m         \u001b[38;5;241m*\u001b[39m\u001b[38;5;241m*\u001b[39m({\u001b[38;5;124m\"\u001b[39m\u001b[38;5;124mdata\u001b[39m\u001b[38;5;124m\"\u001b[39m: data} \u001b[38;5;28;01mif\u001b[39;00m data \u001b[38;5;129;01mis\u001b[39;00m \u001b[38;5;129;01mnot\u001b[39;00m \u001b[38;5;28;01mNone\u001b[39;00m \u001b[38;5;28;01melse\u001b[39;00m {}),\n\u001b[0;32m   3457\u001b[0m         \u001b[38;5;241m*\u001b[39m\u001b[38;5;241m*\u001b[39mkwargs,\n\u001b[0;32m   3458\u001b[0m     )\n",
      "File \u001b[1;32m~\\anaconda3\\envs\\dev\\lib\\site-packages\\matplotlib\\__init__.py:1473\u001b[0m, in \u001b[0;36m_preprocess_data.<locals>.inner\u001b[1;34m(ax, data, *args, **kwargs)\u001b[0m\n\u001b[0;32m   1470\u001b[0m \u001b[38;5;129m@functools\u001b[39m\u001b[38;5;241m.\u001b[39mwraps(func)\n\u001b[0;32m   1471\u001b[0m \u001b[38;5;28;01mdef\u001b[39;00m \u001b[38;5;21minner\u001b[39m(ax, \u001b[38;5;241m*\u001b[39margs, data\u001b[38;5;241m=\u001b[39m\u001b[38;5;28;01mNone\u001b[39;00m, \u001b[38;5;241m*\u001b[39m\u001b[38;5;241m*\u001b[39mkwargs):\n\u001b[0;32m   1472\u001b[0m     \u001b[38;5;28;01mif\u001b[39;00m data \u001b[38;5;129;01mis\u001b[39;00m \u001b[38;5;28;01mNone\u001b[39;00m:\n\u001b[1;32m-> 1473\u001b[0m         \u001b[38;5;28;01mreturn\u001b[39;00m func(\n\u001b[0;32m   1474\u001b[0m             ax,\n\u001b[0;32m   1475\u001b[0m             \u001b[38;5;241m*\u001b[39m\u001b[38;5;28mmap\u001b[39m(sanitize_sequence, args),\n\u001b[0;32m   1476\u001b[0m             \u001b[38;5;241m*\u001b[39m\u001b[38;5;241m*\u001b[39m{k: sanitize_sequence(v) \u001b[38;5;28;01mfor\u001b[39;00m k, v \u001b[38;5;129;01min\u001b[39;00m kwargs\u001b[38;5;241m.\u001b[39mitems()})\n\u001b[0;32m   1478\u001b[0m     bound \u001b[38;5;241m=\u001b[39m new_sig\u001b[38;5;241m.\u001b[39mbind(ax, \u001b[38;5;241m*\u001b[39margs, \u001b[38;5;241m*\u001b[39m\u001b[38;5;241m*\u001b[39mkwargs)\n\u001b[0;32m   1479\u001b[0m     auto_label \u001b[38;5;241m=\u001b[39m (bound\u001b[38;5;241m.\u001b[39marguments\u001b[38;5;241m.\u001b[39mget(label_namer)\n\u001b[0;32m   1480\u001b[0m                   \u001b[38;5;129;01mor\u001b[39;00m bound\u001b[38;5;241m.\u001b[39mkwargs\u001b[38;5;241m.\u001b[39mget(label_namer))\n",
      "File \u001b[1;32m~\\anaconda3\\envs\\dev\\lib\\site-packages\\matplotlib\\axes\\_axes.py:6957\u001b[0m, in \u001b[0;36mAxes.hist\u001b[1;34m(self, x, bins, range, density, weights, cumulative, bottom, histtype, align, orientation, rwidth, log, color, label, stacked, **kwargs)\u001b[0m\n\u001b[0;32m   6955\u001b[0m     colors \u001b[38;5;241m=\u001b[39m mcolors\u001b[38;5;241m.\u001b[39mto_rgba_array(color)\n\u001b[0;32m   6956\u001b[0m     \u001b[38;5;28;01mif\u001b[39;00m \u001b[38;5;28mlen\u001b[39m(colors) \u001b[38;5;241m!=\u001b[39m nx:\n\u001b[1;32m-> 6957\u001b[0m         \u001b[38;5;28;01mraise\u001b[39;00m \u001b[38;5;167;01mValueError\u001b[39;00m(\u001b[38;5;124mf\u001b[39m\u001b[38;5;124m\"\u001b[39m\u001b[38;5;124mThe \u001b[39m\u001b[38;5;124m'\u001b[39m\u001b[38;5;124mcolor\u001b[39m\u001b[38;5;124m'\u001b[39m\u001b[38;5;124m keyword argument must have one \u001b[39m\u001b[38;5;124m\"\u001b[39m\n\u001b[0;32m   6958\u001b[0m                          \u001b[38;5;124mf\u001b[39m\u001b[38;5;124m\"\u001b[39m\u001b[38;5;124mcolor per dataset, but \u001b[39m\u001b[38;5;132;01m{\u001b[39;00mnx\u001b[38;5;132;01m}\u001b[39;00m\u001b[38;5;124m datasets and \u001b[39m\u001b[38;5;124m\"\u001b[39m\n\u001b[0;32m   6959\u001b[0m                          \u001b[38;5;124mf\u001b[39m\u001b[38;5;124m\"\u001b[39m\u001b[38;5;132;01m{\u001b[39;00m\u001b[38;5;28mlen\u001b[39m(colors)\u001b[38;5;132;01m}\u001b[39;00m\u001b[38;5;124m colors were provided\u001b[39m\u001b[38;5;124m\"\u001b[39m)\n\u001b[0;32m   6961\u001b[0m hist_kwargs \u001b[38;5;241m=\u001b[39m \u001b[38;5;28mdict\u001b[39m()\n\u001b[0;32m   6963\u001b[0m \u001b[38;5;66;03m# if the bin_range is not given, compute without nan numpy\u001b[39;00m\n\u001b[0;32m   6964\u001b[0m \u001b[38;5;66;03m# does not do this for us when guessing the range (but will\u001b[39;00m\n\u001b[0;32m   6965\u001b[0m \u001b[38;5;66;03m# happily ignore nans when computing the histogram).\u001b[39;00m\n",
      "\u001b[1;31mValueError\u001b[0m: The 'color' keyword argument must have one color per dataset, but 2 datasets and 1 colors were provided"
     ]
    }
   ],
   "source": [
    "# Using the most active station id\n",
    "# Query the last 12 months of temperature observation data for this station and plot the results as a histogram\n",
    "\n",
    "filtered_dates = session.query(measurement.tobs).\\\n",
    "    filter(and_(measurement.tobs >= '2016-08-23', measurement.tobs <= '2017-08-23')).\\\n",
    "    order_by(measurement.tobs).all()\n",
    "\n",
    "\n",
    "sel = [measurement.tobs,\n",
    "       func.avg(measurement.tobs)]\n",
    "may_averages = session.query(*sel).\\\n",
    "    group_by(measurement.tobs).\\\n",
    "    order_by(measurement.tobs).all()\n",
    "may_averages\n",
    "\n",
    "\n",
    "\n",
    "\n",
    "\n",
    "\n",
    "\n",
    "\n",
    "\n",
    "#Create a connection\n",
    "with engine.connect() as connection:\n",
    "    # Execute the query\n",
    "   result = connection.execute(text(\"SELECT measurement.tobs, measurement.station FROM measurement WHERE measurement.date >= '2016-08-23' AND measurement.date <= '2017-08-23';\")).all()\n",
    "\n",
    "df2 = pd.DataFrame(result, columns=[\"Temperature\", \"Station\"])\n",
    "\n",
    "df2\n",
    "\n",
    "plt.hist(df2, bins=30, alpha=0.7, color='blue')  # Create histogram\n",
    "plt.xlabel(df2['Temperature'])  # Label x-axis\n",
    "plt.ylabel(df2['Station'])  # Label y-axis\n",
    "plt.title('Histogram of Random Data')  # Title\n",
    "plt.show()  # Display the plot\n"
   ]
  },
  {
   "cell_type": "markdown",
   "metadata": {},
   "source": [
    "# Close Session"
   ]
  },
  {
   "cell_type": "code",
   "execution_count": 16,
   "metadata": {},
   "outputs": [],
   "source": [
    "# Close Session\n",
    "session.close()"
   ]
  },
  {
   "cell_type": "code",
   "execution_count": null,
   "metadata": {},
   "outputs": [],
   "source": []
  }
 ],
 "metadata": {
  "anaconda-cloud": {},
  "kernel_info": {
   "name": "python3"
  },
  "kernelspec": {
   "display_name": "Python 3 (ipykernel)",
   "language": "python",
   "name": "python3"
  },
  "language_info": {
   "codemirror_mode": {
    "name": "ipython",
    "version": 3
   },
   "file_extension": ".py",
   "mimetype": "text/x-python",
   "name": "python",
   "nbconvert_exporter": "python",
   "pygments_lexer": "ipython3",
   "version": "3.10.15"
  },
  "nteract": {
   "version": "0.12.3"
  },
  "varInspector": {
   "cols": {
    "lenName": 16,
    "lenType": 16,
    "lenVar": 40
   },
   "kernels_config": {
    "python": {
     "delete_cmd_postfix": "",
     "delete_cmd_prefix": "del ",
     "library": "var_list.py",
     "varRefreshCmd": "print(var_dic_list())"
    },
    "r": {
     "delete_cmd_postfix": ") ",
     "delete_cmd_prefix": "rm(",
     "library": "var_list.r",
     "varRefreshCmd": "cat(var_dic_list()) "
    }
   },
   "types_to_exclude": [
    "module",
    "function",
    "builtin_function_or_method",
    "instance",
    "_Feature"
   ],
   "window_display": false
  }
 },
 "nbformat": 4,
 "nbformat_minor": 4
}
